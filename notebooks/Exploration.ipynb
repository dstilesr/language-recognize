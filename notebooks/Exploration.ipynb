{
 "cells": [
  {
   "cell_type": "markdown",
   "metadata": {},
   "source": [
    "# Exploration <a id=\"title\"></a>\n",
    "Here we perform some basic exploration of the wikibooks dataset in order to get basic insights and get some ideas on how to\n",
    "process the data for training the model.\n",
    "\n",
    "## Contents\n",
    "- [Data Loading](#data-loading)\n",
    "- [Text Exploration](#text-exploration)"
   ]
  },
  {
   "cell_type": "code",
   "execution_count": 1,
   "metadata": {},
   "outputs": [],
   "source": [
    "import os\n",
    "import numpy as np\n",
    "import pandas as pd\n",
    "\n",
    "import matplotlib.pyplot as plt\n",
    "import seaborn as sns\n",
    "\n",
    "plt.style.use(\"seaborn\")"
   ]
  },
  {
   "cell_type": "markdown",
   "metadata": {},
   "source": [
    "## Data Loading <a id=\"data-loading\"></a>"
   ]
  },
  {
   "cell_type": "code",
   "execution_count": 2,
   "metadata": {},
   "outputs": [
    {
     "name": "stdout",
     "output_type": "stream",
     "text": [
      "(19080, 5)\n",
      "Index(['title', 'url', 'abstract', 'body_text', 'body_html'], dtype='object')\n"
     ]
    },
    {
     "data": {
      "text/html": [
       "<div>\n",
       "<style scoped>\n",
       "    .dataframe tbody tr th:only-of-type {\n",
       "        vertical-align: middle;\n",
       "    }\n",
       "\n",
       "    .dataframe tbody tr th {\n",
       "        vertical-align: top;\n",
       "    }\n",
       "\n",
       "    .dataframe thead th {\n",
       "        text-align: right;\n",
       "    }\n",
       "</style>\n",
       "<table border=\"1\" class=\"dataframe\">\n",
       "  <thead>\n",
       "    <tr style=\"text-align: right;\">\n",
       "      <th></th>\n",
       "      <th>title</th>\n",
       "      <th>url</th>\n",
       "      <th>abstract</th>\n",
       "      <th>body_text</th>\n",
       "      <th>body_html</th>\n",
       "    </tr>\n",
       "  </thead>\n",
       "  <tbody>\n",
       "    <tr>\n",
       "      <th>0</th>\n",
       "      <td>Wikilivres : Photographie/Personnalités/B/Joha...</td>\n",
       "      <td>https://fr.wikibooks.org/wiki/Photographie/Per...</td>\n",
       "      <td>Johan Emilius Bøgh était un photographe danois...</td>\n",
       "      <td>PHOTOGRAPHIE\\nUn wikilivre pour ceux qui veule...</td>\n",
       "      <td>&lt;div class=\"mw-parser-output\"&gt;&lt;table border=\"4...</td>\n",
       "    </tr>\n",
       "    <tr>\n",
       "      <th>1</th>\n",
       "      <td>Wikilivres : Photographie/Sociétés et Organisa...</td>\n",
       "      <td>https://fr.wikibooks.org/wiki/Photographie/Soc...</td>\n",
       "      <td>Hugerot-Gallimard était un éditeur de cartes f...</td>\n",
       "      <td>PHOTOGRAPHIE\\nUn wikilivre pour ceux qui veule...</td>\n",
       "      <td>&lt;div class=\"mw-parser-output\"&gt;&lt;table border=\"4...</td>\n",
       "    </tr>\n",
       "    <tr>\n",
       "      <th>2</th>\n",
       "      <td>Wikilivres : Pouvoir Accéder et Utiliser Write...</td>\n",
       "      <td>https://fr.wikibooks.org/wiki/Pouvoir_Acc%C3%A...</td>\n",
       "      <td>== Ouvrir la fenêtre d'aide de Writer ==</td>\n",
       "      <td>Pouvoir Accéder et Utiliser Writer\\n\\n\\nBienve...</td>\n",
       "      <td>&lt;div class=\"mw-parser-output\"&gt;&lt;p&gt;&lt;br&gt;\\n&lt;/p&gt;\\n&lt;...</td>\n",
       "    </tr>\n",
       "    <tr>\n",
       "      <th>3</th>\n",
       "      <td>Wikilivres : Climat et écocitoyens/Plantons le...</td>\n",
       "      <td>https://fr.wikibooks.org/wiki/Climat_et_%C3%A9...</td>\n",
       "      <td>==Construire son paysage==</td>\n",
       "      <td>Climat et écocitoyens\\n\\n\\nPlan\\n\\n\\n\\nAvant-p...</td>\n",
       "      <td>&lt;div class=\"mw-parser-output\"&gt;&lt;table class=\"no...</td>\n",
       "    </tr>\n",
       "    <tr>\n",
       "      <th>4</th>\n",
       "      <td>Wikilivres : Programmation Bash/Commandes shell</td>\n",
       "      <td>https://fr.wikibooks.org/wiki/Programmation_Ba...</td>\n",
       "      <td>Une commande, dans le sens plus général, est u...</td>\n",
       "      <td>Programmation Bash\\n\\n\\nIntroduction\\nHello Wo...</td>\n",
       "      <td>&lt;div class=\"mw-parser-output\"&gt;&lt;p&gt;&lt;br&gt;\\n&lt;/p&gt;\\n&lt;...</td>\n",
       "    </tr>\n",
       "  </tbody>\n",
       "</table>\n",
       "</div>"
      ],
      "text/plain": [
       "                                               title  \\\n",
       "0  Wikilivres : Photographie/Personnalités/B/Joha...   \n",
       "1  Wikilivres : Photographie/Sociétés et Organisa...   \n",
       "2  Wikilivres : Pouvoir Accéder et Utiliser Write...   \n",
       "3  Wikilivres : Climat et écocitoyens/Plantons le...   \n",
       "4    Wikilivres : Programmation Bash/Commandes shell   \n",
       "\n",
       "                                                 url  \\\n",
       "0  https://fr.wikibooks.org/wiki/Photographie/Per...   \n",
       "1  https://fr.wikibooks.org/wiki/Photographie/Soc...   \n",
       "2  https://fr.wikibooks.org/wiki/Pouvoir_Acc%C3%A...   \n",
       "3  https://fr.wikibooks.org/wiki/Climat_et_%C3%A9...   \n",
       "4  https://fr.wikibooks.org/wiki/Programmation_Ba...   \n",
       "\n",
       "                                            abstract  \\\n",
       "0  Johan Emilius Bøgh était un photographe danois...   \n",
       "1  Hugerot-Gallimard était un éditeur de cartes f...   \n",
       "2           == Ouvrir la fenêtre d'aide de Writer ==   \n",
       "3                         ==Construire son paysage==   \n",
       "4  Une commande, dans le sens plus général, est u...   \n",
       "\n",
       "                                           body_text  \\\n",
       "0  PHOTOGRAPHIE\\nUn wikilivre pour ceux qui veule...   \n",
       "1  PHOTOGRAPHIE\\nUn wikilivre pour ceux qui veule...   \n",
       "2  Pouvoir Accéder et Utiliser Writer\\n\\n\\nBienve...   \n",
       "3  Climat et écocitoyens\\n\\n\\nPlan\\n\\n\\n\\nAvant-p...   \n",
       "4  Programmation Bash\\n\\n\\nIntroduction\\nHello Wo...   \n",
       "\n",
       "                                           body_html  \n",
       "0  <div class=\"mw-parser-output\"><table border=\"4...  \n",
       "1  <div class=\"mw-parser-output\"><table border=\"4...  \n",
       "2  <div class=\"mw-parser-output\"><p><br>\\n</p>\\n<...  \n",
       "3  <div class=\"mw-parser-output\"><table class=\"no...  \n",
       "4  <div class=\"mw-parser-output\"><p><br>\\n</p>\\n<...  "
      ]
     },
     "execution_count": 2,
     "metadata": {},
     "output_type": "execute_result"
    }
   ],
   "source": [
    "fr_file = os.path.join(\"..\", \"data\", \"raw-data\", \"french-wikibooks\", \"fr-books-dataset.csv\")\n",
    "df_fr = pd.read_csv(fr_file)\n",
    "\n",
    "print(df_fr.shape)\n",
    "print(df_fr.columns)\n",
    "\n",
    "df_fr.head()"
   ]
  },
  {
   "cell_type": "code",
   "execution_count": 3,
   "metadata": {},
   "outputs": [
    {
     "data": {
      "text/plain": [
       "title          0\n",
       "url            0\n",
       "abstract     356\n",
       "body_text     15\n",
       "body_html      0\n",
       "dtype: int64"
      ]
     },
     "execution_count": 3,
     "metadata": {},
     "output_type": "execute_result"
    }
   ],
   "source": [
    "pd.isnull(df_fr).sum()"
   ]
  },
  {
   "cell_type": "markdown",
   "metadata": {},
   "source": [
    "As we can see, there are very few book entries with no body or abstract, so we can safely discard them."
   ]
  },
  {
   "cell_type": "code",
   "execution_count": 4,
   "metadata": {},
   "outputs": [
    {
     "data": {
      "text/plain": [
       "title        0\n",
       "url          0\n",
       "abstract     0\n",
       "body_text    0\n",
       "body_html    0\n",
       "dtype: int64"
      ]
     },
     "execution_count": 4,
     "metadata": {},
     "output_type": "execute_result"
    }
   ],
   "source": [
    "df_fr.dropna(inplace=True)\n",
    "pd.isnull(df_fr).sum()"
   ]
  },
  {
   "cell_type": "code",
   "execution_count": 5,
   "metadata": {},
   "outputs": [
    {
     "data": {
      "image/png": "[encoded data removed]",
      "text/plain": [
       "<Figure size 504x504 with 1 Axes>"
      ]
     },
     "metadata": {},
     "output_type": "display_data"
    }
   ],
   "source": [
    "df_fr[\"body_length\"] = df_fr.body_text.map(len)\n",
    "\n",
    "fig, ax = plt.subplots(figsize=(7, 7))\n",
    "lens_log10 = df_fr[\"body_length\"].map(np.log10)\n",
    "lens_log10.plot.hist(bins=40, ax=ax)\n",
    "\n",
    "median_len = lens_log10.median()\n",
    "ax.axvline(median_len, label=f\"Median Book Length (Log10): {median_len:0.2f}\", color=\"black\")\n",
    "\n",
    "ax.set_title(\"Hitorgram of Book Body Lengths (Characters)\")\n",
    "ax.set_xlabel(\"Length of Body (Log10)\")\n",
    "ax.legend()\n",
    "plt.show()"
   ]
  },
  {
   "cell_type": "code",
   "execution_count": 6,
   "metadata": {},
   "outputs": [
    {
     "data": {
      "image/png": "[encoded data removed]",
      "text/plain": [
       "<Figure size 504x504 with 1 Axes>"
      ]
     },
     "metadata": {},
     "output_type": "display_data"
    }
   ],
   "source": [
    "df_fr[\"abstract_length\"] = df_fr.abstract.map(len)\n",
    "\n",
    "fig, ax = plt.subplots(figsize=(7, 7))\n",
    "lens_log10 = df_fr[\"abstract_length\"].map(np.log10)\n",
    "lens_log10.plot.hist(bins=40, ax=ax)\n",
    "\n",
    "median_len = lens_log10.median()\n",
    "ax.axvline(median_len, label=f\"Median Abstract Length (Log10): {median_len:0.2f}\", color=\"black\")\n",
    "\n",
    "ax.set_title(\"Hitorgram of Book Abstract Lengths (Characters)\")\n",
    "ax.set_xlabel(\"Length of Abstract (Log10)\")\n",
    "ax.legend()\n",
    "plt.show()"
   ]
  },
  {
   "cell_type": "markdown",
   "metadata": {},
   "source": [
    "From these basic histograms of body and abstract texts, we can see that mosk book texts are rather short, with a median body length of around\n",
    "5000 characters (10 ^ 3.71). This in turn corresponds to around 1000 words."
   ]
  },
  {
   "cell_type": "markdown",
   "metadata": {},
   "source": [
    "## Text Exploration <a id=\"text-exploration\"></a>\n",
    "\n",
    "Now we take a quick look at one of the book bodies to get a better idea of what we are dealing with.\n",
    "\n",
    "[Back to top.](#title)"
   ]
  },
  {
   "cell_type": "code",
   "execution_count": 7,
   "metadata": {},
   "outputs": [
    {
     "data": {
      "text/html": [
       "<div>\n",
       "<style scoped>\n",
       "    .dataframe tbody tr th:only-of-type {\n",
       "        vertical-align: middle;\n",
       "    }\n",
       "\n",
       "    .dataframe tbody tr th {\n",
       "        vertical-align: top;\n",
       "    }\n",
       "\n",
       "    .dataframe thead th {\n",
       "        text-align: right;\n",
       "    }\n",
       "</style>\n",
       "<table border=\"1\" class=\"dataframe\">\n",
       "  <thead>\n",
       "    <tr style=\"text-align: right;\">\n",
       "      <th></th>\n",
       "      <th>title</th>\n",
       "      <th>url</th>\n",
       "      <th>abstract</th>\n",
       "      <th>body_text</th>\n",
       "      <th>body_html</th>\n",
       "      <th>body_length</th>\n",
       "      <th>abstract_length</th>\n",
       "    </tr>\n",
       "  </thead>\n",
       "  <tbody>\n",
       "    <tr>\n",
       "      <th>0</th>\n",
       "      <td>Wikilivres : Photographie/Personnalités/C/Benj...</td>\n",
       "      <td>https://fr.wikibooks.org/wiki/Photographie/Per...</td>\n",
       "      <td>== Biographie ==</td>\n",
       "      <td>PHOTOGRAPHIE\\nUn wikilivre pour ceux qui veule...</td>\n",
       "      <td>&lt;div class=\"mw-parser-output\"&gt;&lt;table border=\"4...</td>\n",
       "      <td>5368</td>\n",
       "      <td>16</td>\n",
       "    </tr>\n",
       "    <tr>\n",
       "      <th>1</th>\n",
       "      <td>Wikilivres : Mathc complexes/Fichiers c : r0 m</td>\n",
       "      <td>https://fr.wikibooks.org/wiki/Mathc_complexes/...</td>\n",
       "      <td>Catégorie:Mathc complexes (livre)</td>\n",
       "      <td>Installer et compiler ces fichiers dans votre ...</td>\n",
       "      <td>&lt;div class=\"mw-parser-output\"&gt;&lt;p&gt;&lt;br&gt;\\n&lt;/p&gt;&lt;p&gt;...</td>\n",
       "      <td>1055</td>\n",
       "      <td>33</td>\n",
       "    </tr>\n",
       "    <tr>\n",
       "      <th>2</th>\n",
       "      <td>Wikilivres : Livre de cuisine/Taboulé exotique...</td>\n",
       "      <td>https://fr.wikibooks.org/wiki/Livre_de_cuisine...</td>\n",
       "      <td>Le taboulé exotique aux oranges et aux pruneau...</td>\n",
       "      <td>La cuisine sur WikibooksApprendre à cuisiner •...</td>\n",
       "      <td>&lt;div class=\"mw-parser-output\"&gt;&lt;div style=\"back...</td>\n",
       "      <td>1138</td>\n",
       "      <td>77</td>\n",
       "    </tr>\n",
       "    <tr>\n",
       "      <th>3</th>\n",
       "      <td>Wikilivres : Programmation Python/Programmer e...</td>\n",
       "      <td>https://fr.wikibooks.org/wiki/Programmation_Py...</td>\n",
       "      <td>1. Ouvrir Python (command line).</td>\n",
       "      <td>Programmation Python\\n\\n\\nPartie 1 - Introduct...</td>\n",
       "      <td>&lt;div class=\"mw-parser-output\"&gt;&lt;p&gt;&lt;br&gt;\\n&lt;/p&gt;\\n&lt;...</td>\n",
       "      <td>3187</td>\n",
       "      <td>32</td>\n",
       "    </tr>\n",
       "    <tr>\n",
       "      <th>4</th>\n",
       "      <td>Wikilivres : Photographie/Personnalités/M/J. M...</td>\n",
       "      <td>https://fr.wikibooks.org/wiki/Photographie/Per...</td>\n",
       "      <td>J. Marchand était un photographe professionnel...</td>\n",
       "      <td>PHOTOGRAPHIE\\nUn wikilivre pour ceux qui veule...</td>\n",
       "      <td>&lt;div class=\"mw-parser-output\"&gt;&lt;table border=\"4...</td>\n",
       "      <td>4502</td>\n",
       "      <td>78</td>\n",
       "    </tr>\n",
       "    <tr>\n",
       "      <th>5</th>\n",
       "      <td>Wikilivres : Programmation Ruby/Syntaxe</td>\n",
       "      <td>https://fr.wikibooks.org/wiki/Programmation_Ru...</td>\n",
       "      <td>= Syntaxe du langage =</td>\n",
       "      <td>Programmation Ruby\\n\\n\\nIntroduction et instal...</td>\n",
       "      <td>&lt;div class=\"mw-parser-output\"&gt;&lt;p&gt;&lt;br&gt;\\n&lt;/p&gt;\\n&lt;...</td>\n",
       "      <td>13805</td>\n",
       "      <td>22</td>\n",
       "    </tr>\n",
       "  </tbody>\n",
       "</table>\n",
       "</div>"
      ],
      "text/plain": [
       "                                               title  \\\n",
       "0  Wikilivres : Photographie/Personnalités/C/Benj...   \n",
       "1     Wikilivres : Mathc complexes/Fichiers c : r0 m   \n",
       "2  Wikilivres : Livre de cuisine/Taboulé exotique...   \n",
       "3  Wikilivres : Programmation Python/Programmer e...   \n",
       "4  Wikilivres : Photographie/Personnalités/M/J. M...   \n",
       "5            Wikilivres : Programmation Ruby/Syntaxe   \n",
       "\n",
       "                                                 url  \\\n",
       "0  https://fr.wikibooks.org/wiki/Photographie/Per...   \n",
       "1  https://fr.wikibooks.org/wiki/Mathc_complexes/...   \n",
       "2  https://fr.wikibooks.org/wiki/Livre_de_cuisine...   \n",
       "3  https://fr.wikibooks.org/wiki/Programmation_Py...   \n",
       "4  https://fr.wikibooks.org/wiki/Photographie/Per...   \n",
       "5  https://fr.wikibooks.org/wiki/Programmation_Ru...   \n",
       "\n",
       "                                            abstract  \\\n",
       "0                                   == Biographie ==   \n",
       "1                  Catégorie:Mathc complexes (livre)   \n",
       "2  Le taboulé exotique aux oranges et aux pruneau...   \n",
       "3                   1. Ouvrir Python (command line).   \n",
       "4  J. Marchand était un photographe professionnel...   \n",
       "5                             = Syntaxe du langage =   \n",
       "\n",
       "                                           body_text  \\\n",
       "0  PHOTOGRAPHIE\\nUn wikilivre pour ceux qui veule...   \n",
       "1  Installer et compiler ces fichiers dans votre ...   \n",
       "2  La cuisine sur WikibooksApprendre à cuisiner •...   \n",
       "3  Programmation Python\\n\\n\\nPartie 1 - Introduct...   \n",
       "4  PHOTOGRAPHIE\\nUn wikilivre pour ceux qui veule...   \n",
       "5  Programmation Ruby\\n\\n\\nIntroduction et instal...   \n",
       "\n",
       "                                           body_html  body_length  \\\n",
       "0  <div class=\"mw-parser-output\"><table border=\"4...         5368   \n",
       "1  <div class=\"mw-parser-output\"><p><br>\\n</p><p>...         1055   \n",
       "2  <div class=\"mw-parser-output\"><div style=\"back...         1138   \n",
       "3  <div class=\"mw-parser-output\"><p><br>\\n</p>\\n<...         3187   \n",
       "4  <div class=\"mw-parser-output\"><table border=\"4...         4502   \n",
       "5  <div class=\"mw-parser-output\"><p><br>\\n</p>\\n<...        13805   \n",
       "\n",
       "   abstract_length  \n",
       "0               16  \n",
       "1               33  \n",
       "2               77  \n",
       "3               32  \n",
       "4               78  \n",
       "5               22  "
      ]
     },
     "execution_count": 7,
     "metadata": {},
     "output_type": "execute_result"
    }
   ],
   "source": [
    "np.random.seed(987)\n",
    "sample_df = df_fr.sample(6).reset_index(drop=True)\n",
    "sample_df"
   ]
  },
  {
   "cell_type": "code",
   "execution_count": 8,
   "metadata": {},
   "outputs": [
    {
     "name": "stdout",
     "output_type": "stream",
     "text": [
      "Installer et compiler ces fichiers dans votre répertoire de travail.\n",
      "\n",
      "\n",
      "\n",
      "\n",
      "\n",
      "rdiag.c '\n",
      "\n",
      "/* ------------------------------------ */\n",
      "/*  Save as :   rdiag.c                */\n",
      "/* ------------------------------------ */\n",
      "#include \"w_a.h\"\n",
      "/* ------------------------------------ */\n",
      "void fun(int rc)\n",
      "{\n",
      "double **A   = rdiag_mZ(i_mZ(rc,rc),9);\n",
      "\n",
      "  clrscrn();\n",
      "\n",
      "  printf(\" rdiag_mZ() :  \\n\\n\" \n",
      "         \" A[R%d,C%d] : \\n\",rsize_mZ(A),csize_mZ(A));\n",
      "         \n",
      "  p_mZ(A, 5,0, 4,0, C6);\n",
      "   \n",
      "  f_mZ(A);\n",
      "}\n",
      "/* ------------------------------------ */\n",
      "int main(void)\n",
      "{\n",
      "time_t t;\n",
      "\n",
      "  srand(time(&t));\n",
      "  \n",
      "  do\n",
      "        fun(rp_I(RC8));\n",
      "\n",
      "  while(stop_w());       \n",
      "\n",
      "  return 0;\n",
      "}\n",
      "\n",
      "\n",
      "Ici nous travaillons avec la fonction rdiag_mZ(). \n",
      "Cette fonction nous permet d'obtenir des matrices diagonales.\n",
      "\n",
      "Exemple de sortie écran :\n",
      "\n",
      "  \n",
      " rdiag_mZ() :  \n",
      "\n",
      " A[R4,C4] : \n",
      "\n",
      "   -7  -3i    +0  +0i    +0  +0i    +0  +0i \n",
      "   +0  +0i    +2  +2i    +0  +0i    +0  +0i \n",
      "   +0  +0i    +0  +0i    +6  -9i    +0  +0i \n",
      "   +0  +0i    +0  +0i    +0  +0i    -3  -9i \n",
      "\n",
      "\n",
      " Press return to continue\n",
      " Press X      to stop\n"
     ]
    }
   ],
   "source": [
    "print(sample_df.loc[1, \"body_text\"])"
   ]
  },
  {
   "cell_type": "code",
   "execution_count": 9,
   "metadata": {},
   "outputs": [
    {
     "name": "stdout",
     "output_type": "stream",
     "text": [
      "La cuisine sur WikibooksApprendre à cuisiner • Régime et gastronomie • Toutes les recettes de cuisine\n",
      "\n",
      "Le taboulé exotique aux oranges et aux pruneaux est un plat d’accompagnement.\n",
      "\n",
      "Ingrédients[modifier | modifier le wikicode]\n",
      "300 g de tomates\n",
      "200 g de semoule de blé\n",
      "100 g de poivrons\n",
      "100 g d’oignons\n",
      "60 cl de bouillon de légumes\n",
      "50 g de pruneaux dénoyautés\n",
      "3 cl de bouillon de basilic\n",
      "3 cl d’huile d’olive\n",
      "1 orange\n",
      "1 botte de menthe\n",
      "Préparation[modifier | modifier le wikicode]\n",
      "Porter à ébullition les bouillons et retirer du feu, y verser le zeste haché d’un quart d’orange pour infusion\n",
      "Tailler en dés les poivrons, la tomate, l’oignon et la moitié d’orange épluchée\n",
      "Verser le bouillon tiède sur la semoule dans un saladier avec la moitié de la menthe hachée, les pruneaux en morceaux et les légumes. S’assurer que la semoule reste ferme mais pas craquante.\n",
      "Rafraîchir au réfrigérateur.\n",
      "Au moment de servir, ajouter l’huile d’olive, le reste de la menthe et le jus d’une demi orange. Vérifier l’assaisonnement et servir.\n",
      "Variantes[modifier | modifier le wikicode]\n",
      "Taboulé au quinoa\n",
      "Taboulé aux herbes\n",
      "Livre de cuisine/Taboulé arménien\n"
     ]
    }
   ],
   "source": [
    "print(sample_df.loc[2, \"body_text\"])"
   ]
  },
  {
   "cell_type": "markdown",
   "metadata": {},
   "source": [
    "From this first look we can see that there is a great variety of books within the dataset: from recipes to programming texts, with perhaps\n",
    "a predominance of the latter. This might prove challenging, since code uses mostly english keywords and as such might not be a good sample\n",
    "of the language. We could look for ways to filter out these texts, or just see if the model can perform well even if we include them. We might \n",
    "also have to deal with the diacritics present.\n",
    "\n",
    "[Back to top.](#title)"
   ]
  },
  {
   "cell_type": "code",
   "execution_count": null,
   "metadata": {},
   "outputs": [],
   "source": []
  }
 ],
 "metadata": {
  "kernelspec": {
   "display_name": "Python 3",
   "language": "python",
   "name": "python3"
  },
  "language_info": {
   "codemirror_mode": {
    "name": "ipython",
    "version": 3
   },
   "file_extension": ".py",
   "mimetype": "text/x-python",
   "name": "python",
   "nbconvert_exporter": "python",
   "pygments_lexer": "ipython3",
   "version": "3.8.5"
  }
 },
 "nbformat": 4,
 "nbformat_minor": 4
}
