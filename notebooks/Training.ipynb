{
 "cells": [
  {
   "cell_type": "code",
   "execution_count": null,
   "metadata": {},
   "outputs": [],
   "source": [
    "import os\n",
    "import sys\n",
    "import numpy as np\n",
    "import tensorflow as tf\n",
    "from tensorflow import keras\n",
    "import tensorflow_text as tf_text\n",
    "\n",
    "sys.path.append(os.path.join(\"..\", \"training\"))\n",
    "from tokenizer import CharTokenizer"
   ]
  },
  {
   "cell_type": "code",
   "execution_count": null,
   "metadata": {},
   "outputs": [],
   "source": [
    "# Constants and utilities\n",
    "tok = tf_text.UnicodeCharTokenizer()\n",
    "PAD_LENGTH: int = 128  # Length to which to pad sequences.\n",
    "BATCH_SIZE: int = 256  # Size of dataset batches\n",
    "VOCAB_SIZE: int = 256  # Vocabulary size (we use ASCII characters)\n",
    "DATASET_PATH: str = os.path.join(\"..\", \"data\", \"processed-text\")  # Path to dataset files\n",
    "\n",
    "# Functions to prepare input for model\n",
    "def drop_newlines(strings):\n",
    "    return tf.strings.regex_replace(strings, r\"\\n\", \"\")\n",
    "\n",
    "def prepare_input(strings, labels):\n",
    "    # Remove newline characters from strings\n",
    "    strings_clean = drop_newlines(strings)\n",
    "    \n",
    "    # Tokenize\n",
    "    tokens = tok.tokenize(strings_clean)\n",
    "    \n",
    "    # Pad sequences\n",
    "    return tokens.to_tensor(0, shape=(BATCH_SIZE, PAD_LENGTH)), labels"
   ]
  },
  {
   "cell_type": "code",
   "execution_count": null,
   "metadata": {},
   "outputs": [],
   "source": [
    "# Training and validation datasets\n",
    "train_dataset = keras.preprocessing.text_dataset_from_directory(\n",
    "    os.path.join(DATASET_PATH, \"train\"),\n",
    "    batch_size=BATCH_SIZE\n",
    ")\n",
    "valid_dataset = keras.preprocessing.text_dataset_from_directory(\n",
    "    os.path.join(DATASET_PATH, \"test\"),\n",
    "    batch_size=BATCH_SIZE\n",
    ")\n",
    "\n",
    "# Preprocess data\n",
    "train_dataset = train_dataset.map(prepare_input).prefetch(2)\n",
    "valid_dataset = valid_dataset.map(prepare_input).prefetch(2)"
   ]
  },
  {
   "cell_type": "code",
   "execution_count": null,
   "metadata": {},
   "outputs": [],
   "source": []
  }
 ],
 "metadata": {
  "kernelspec": {
   "display_name": "Python 3",
   "language": "python",
   "name": "python3"
  },
  "language_info": {
   "codemirror_mode": {
    "name": "ipython",
    "version": 3
   },
   "file_extension": ".py",
   "mimetype": "text/x-python",
   "name": "python",
   "nbconvert_exporter": "python",
   "pygments_lexer": "ipython3",
   "version": "3.8.5"
  }
 },
 "nbformat": 4,
 "nbformat_minor": 4
}
